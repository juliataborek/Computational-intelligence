{
 "cells": [
  {
   "cell_type": "markdown",
   "metadata": {},
   "source": [
    "# Zadanie 1"
   ]
  },
  {
   "cell_type": "markdown",
   "metadata": {},
   "source": [
    "## a)"
   ]
  },
  {
   "cell_type": "code",
   "execution_count": 8,
   "metadata": {},
   "outputs": [],
   "source": [
    "import numpy as np\n",
    "import math\n",
    "def prime(n):\n",
    "    if n == 1:\n",
    "        return False\n",
    "    for i in range(2, math.ceil(np.sqrt(n)) + 1):\n",
    "        if n % i == 0:\n",
    "            return False\n",
    "    return True"
   ]
  },
  {
   "cell_type": "code",
   "execution_count": 10,
   "metadata": {},
   "outputs": [
    {
     "name": "stdout",
     "output_type": "stream",
     "text": [
      "True\n",
      "False\n",
      "False\n"
     ]
    }
   ],
   "source": [
    "print(prime(3))\n",
    "print(prime(4))\n",
    "print(prime(49))"
   ]
  },
  {
   "cell_type": "markdown",
   "metadata": {},
   "source": [
    "## b)"
   ]
  },
  {
   "cell_type": "code",
   "execution_count": 3,
   "metadata": {},
   "outputs": [],
   "source": [
    "def select_primes(x):\n",
    "    # tworzę nową listę do której będę dodawać liczby pierwsze\n",
    "    list_primes = []\n",
    "    for i in range(0, len(x)):\n",
    "        if prime(x[i]):\n",
    "            list_primes.append(x[i])\n",
    "            # dodaje do listy liczby pierwsze\n",
    "    return list_primes"
   ]
  },
  {
   "cell_type": "code",
   "execution_count": 4,
   "metadata": {},
   "outputs": [
    {
     "data": {
      "text/plain": [
       "[3, 11, 19]"
      ]
     },
     "execution_count": 4,
     "metadata": {},
     "output_type": "execute_result"
    }
   ],
   "source": [
    "select_primes([3, 6, 11, 25, 19])"
   ]
  },
  {
   "cell_type": "markdown",
   "metadata": {},
   "source": [
    "# Zadanie 2"
   ]
  },
  {
   "cell_type": "code",
   "execution_count": 5,
   "metadata": {},
   "outputs": [],
   "source": [
    "import pandas as pd\n",
    "import matplotlib.pyplot as plt"
   ]
  },
  {
   "cell_type": "code",
   "execution_count": 6,
   "metadata": {},
   "outputs": [],
   "source": [
    "miasta = pd.read_csv('miasta.csv')"
   ]
  },
  {
   "cell_type": "code",
   "execution_count": 7,
   "metadata": {},
   "outputs": [
    {
     "data": {
      "text/html": [
       "<div>\n",
       "<style scoped>\n",
       "    .dataframe tbody tr th:only-of-type {\n",
       "        vertical-align: middle;\n",
       "    }\n",
       "\n",
       "    .dataframe tbody tr th {\n",
       "        vertical-align: top;\n",
       "    }\n",
       "\n",
       "    .dataframe thead th {\n",
       "        text-align: right;\n",
       "    }\n",
       "</style>\n",
       "<table border=\"1\" class=\"dataframe\">\n",
       "  <thead>\n",
       "    <tr style=\"text-align: right;\">\n",
       "      <th></th>\n",
       "      <th>Rok</th>\n",
       "      <th>Gdansk</th>\n",
       "      <th>Poznan</th>\n",
       "      <th>Szczecin</th>\n",
       "    </tr>\n",
       "  </thead>\n",
       "  <tbody>\n",
       "    <tr>\n",
       "      <th>0</th>\n",
       "      <td>1900</td>\n",
       "      <td>170</td>\n",
       "      <td>110</td>\n",
       "      <td>210</td>\n",
       "    </tr>\n",
       "    <tr>\n",
       "      <th>1</th>\n",
       "      <td>1925</td>\n",
       "      <td>210</td>\n",
       "      <td>220</td>\n",
       "      <td>254</td>\n",
       "    </tr>\n",
       "    <tr>\n",
       "      <th>2</th>\n",
       "      <td>1939</td>\n",
       "      <td>250</td>\n",
       "      <td>274</td>\n",
       "      <td>287</td>\n",
       "    </tr>\n",
       "    <tr>\n",
       "      <th>3</th>\n",
       "      <td>1946</td>\n",
       "      <td>117</td>\n",
       "      <td>267</td>\n",
       "      <td>72</td>\n",
       "    </tr>\n",
       "    <tr>\n",
       "      <th>4</th>\n",
       "      <td>1950</td>\n",
       "      <td>194</td>\n",
       "      <td>320</td>\n",
       "      <td>178</td>\n",
       "    </tr>\n",
       "    <tr>\n",
       "      <th>5</th>\n",
       "      <td>1960</td>\n",
       "      <td>286</td>\n",
       "      <td>408</td>\n",
       "      <td>269</td>\n",
       "    </tr>\n",
       "    <tr>\n",
       "      <th>6</th>\n",
       "      <td>1970</td>\n",
       "      <td>365</td>\n",
       "      <td>471</td>\n",
       "      <td>338</td>\n",
       "    </tr>\n",
       "    <tr>\n",
       "      <th>7</th>\n",
       "      <td>1980</td>\n",
       "      <td>456</td>\n",
       "      <td>552</td>\n",
       "      <td>388</td>\n",
       "    </tr>\n",
       "    <tr>\n",
       "      <th>8</th>\n",
       "      <td>1990</td>\n",
       "      <td>465</td>\n",
       "      <td>590</td>\n",
       "      <td>413</td>\n",
       "    </tr>\n",
       "    <tr>\n",
       "      <th>9</th>\n",
       "      <td>2000</td>\n",
       "      <td>462</td>\n",
       "      <td>574</td>\n",
       "      <td>416</td>\n",
       "    </tr>\n",
       "  </tbody>\n",
       "</table>\n",
       "</div>"
      ],
      "text/plain": [
       "    Rok  Gdansk  Poznan  Szczecin\n",
       "0  1900     170     110       210\n",
       "1  1925     210     220       254\n",
       "2  1939     250     274       287\n",
       "3  1946     117     267        72\n",
       "4  1950     194     320       178\n",
       "5  1960     286     408       269\n",
       "6  1970     365     471       338\n",
       "7  1980     456     552       388\n",
       "8  1990     465     590       413\n",
       "9  2000     462     574       416"
      ]
     },
     "execution_count": 7,
     "metadata": {},
     "output_type": "execute_result"
    }
   ],
   "source": [
    "miasta"
   ]
  },
  {
   "cell_type": "code",
   "execution_count": 8,
   "metadata": {},
   "outputs": [
    {
     "data": {
      "text/plain": [
       "array([[1900,  170,  110,  210],\n",
       "       [1925,  210,  220,  254],\n",
       "       [1939,  250,  274,  287],\n",
       "       [1946,  117,  267,   72],\n",
       "       [1950,  194,  320,  178],\n",
       "       [1960,  286,  408,  269],\n",
       "       [1970,  365,  471,  338],\n",
       "       [1980,  456,  552,  388],\n",
       "       [1990,  465,  590,  413],\n",
       "       [2000,  462,  574,  416]], dtype=int64)"
      ]
     },
     "execution_count": 8,
     "metadata": {},
     "output_type": "execute_result"
    }
   ],
   "source": [
    "# czyste wartości\n",
    "miasta.values"
   ]
  },
  {
   "cell_type": "markdown",
   "metadata": {},
   "source": [
    "### b)"
   ]
  },
  {
   "cell_type": "code",
   "execution_count": 9,
   "metadata": {},
   "outputs": [
    {
     "data": {
      "text/html": [
       "<div>\n",
       "<style scoped>\n",
       "    .dataframe tbody tr th:only-of-type {\n",
       "        vertical-align: middle;\n",
       "    }\n",
       "\n",
       "    .dataframe tbody tr th {\n",
       "        vertical-align: top;\n",
       "    }\n",
       "\n",
       "    .dataframe thead th {\n",
       "        text-align: right;\n",
       "    }\n",
       "</style>\n",
       "<table border=\"1\" class=\"dataframe\">\n",
       "  <thead>\n",
       "    <tr style=\"text-align: right;\">\n",
       "      <th></th>\n",
       "      <th>Rok</th>\n",
       "      <th>Gdansk</th>\n",
       "      <th>Poznan</th>\n",
       "      <th>Szczecin</th>\n",
       "    </tr>\n",
       "  </thead>\n",
       "  <tbody>\n",
       "    <tr>\n",
       "      <th>0</th>\n",
       "      <td>1900</td>\n",
       "      <td>170</td>\n",
       "      <td>110</td>\n",
       "      <td>210</td>\n",
       "    </tr>\n",
       "    <tr>\n",
       "      <th>1</th>\n",
       "      <td>1925</td>\n",
       "      <td>210</td>\n",
       "      <td>220</td>\n",
       "      <td>254</td>\n",
       "    </tr>\n",
       "    <tr>\n",
       "      <th>2</th>\n",
       "      <td>1939</td>\n",
       "      <td>250</td>\n",
       "      <td>274</td>\n",
       "      <td>287</td>\n",
       "    </tr>\n",
       "    <tr>\n",
       "      <th>3</th>\n",
       "      <td>1946</td>\n",
       "      <td>117</td>\n",
       "      <td>267</td>\n",
       "      <td>72</td>\n",
       "    </tr>\n",
       "    <tr>\n",
       "      <th>4</th>\n",
       "      <td>1950</td>\n",
       "      <td>194</td>\n",
       "      <td>320</td>\n",
       "      <td>178</td>\n",
       "    </tr>\n",
       "    <tr>\n",
       "      <th>5</th>\n",
       "      <td>1960</td>\n",
       "      <td>286</td>\n",
       "      <td>408</td>\n",
       "      <td>269</td>\n",
       "    </tr>\n",
       "    <tr>\n",
       "      <th>6</th>\n",
       "      <td>1970</td>\n",
       "      <td>365</td>\n",
       "      <td>471</td>\n",
       "      <td>338</td>\n",
       "    </tr>\n",
       "    <tr>\n",
       "      <th>7</th>\n",
       "      <td>1980</td>\n",
       "      <td>456</td>\n",
       "      <td>552</td>\n",
       "      <td>388</td>\n",
       "    </tr>\n",
       "    <tr>\n",
       "      <th>8</th>\n",
       "      <td>1990</td>\n",
       "      <td>465</td>\n",
       "      <td>590</td>\n",
       "      <td>413</td>\n",
       "    </tr>\n",
       "    <tr>\n",
       "      <th>9</th>\n",
       "      <td>2000</td>\n",
       "      <td>462</td>\n",
       "      <td>574</td>\n",
       "      <td>416</td>\n",
       "    </tr>\n",
       "    <tr>\n",
       "      <th>10</th>\n",
       "      <td>2010</td>\n",
       "      <td>460</td>\n",
       "      <td>555</td>\n",
       "      <td>405</td>\n",
       "    </tr>\n",
       "  </tbody>\n",
       "</table>\n",
       "</div>"
      ],
      "text/plain": [
       "     Rok  Gdansk  Poznan  Szczecin\n",
       "0   1900     170     110       210\n",
       "1   1925     210     220       254\n",
       "2   1939     250     274       287\n",
       "3   1946     117     267        72\n",
       "4   1950     194     320       178\n",
       "5   1960     286     408       269\n",
       "6   1970     365     471       338\n",
       "7   1980     456     552       388\n",
       "8   1990     465     590       413\n",
       "9   2000     462     574       416\n",
       "10  2010     460     555       405"
      ]
     },
     "execution_count": 9,
     "metadata": {},
     "output_type": "execute_result"
    }
   ],
   "source": [
    "new_values = [2010,460,555,405]\n",
    "# wprowadzenie nowych wartości jako ostatni wiersz\n",
    "miasta.loc[len(miasta)] = new_values\n",
    "miasta"
   ]
  },
  {
   "cell_type": "markdown",
   "metadata": {},
   "source": [
    "### c)"
   ]
  },
  {
   "cell_type": "code",
   "execution_count": 10,
   "metadata": {},
   "outputs": [
    {
     "data": {
      "text/plain": [
       "Text(0, 0.5, 'Liczba ludności [w tys.]')"
      ]
     },
     "execution_count": 10,
     "metadata": {},
     "output_type": "execute_result"
    },
    {
     "data": {
      "image/png": "[encoded data removed]",
      "text/plain": [
       "<Figure size 576x576 with 1 Axes>"
      ]
     },
     "metadata": {
      "needs_background": "light"
     },
     "output_type": "display_data"
    }
   ],
   "source": [
    "import numpy as np\n",
    "miasta.plot(x = 'Rok', y = 'Gdansk',kind = 'line', c = 'r', figsize = (8,8), style = '.-')\n",
    "plt.xlim(1895, 2015)\n",
    "plt.xticks(np.arange(1900, 2020, 10))\n",
    "plt.title('Ludność w miastach Polski')\n",
    "plt.xlabel('Lata')\n",
    "plt.ylabel('Liczba ludności [w tys.]')"
   ]
  },
  {
   "cell_type": "markdown",
   "metadata": {},
   "source": [
    "### d)"
   ]
  },
  {
   "cell_type": "code",
   "execution_count": 11,
   "metadata": {},
   "outputs": [
    {
     "data": {
      "text/plain": [
       "Text(0, 0.5, 'Liczba ludności [w tys.]')"
      ]
     },
     "execution_count": 11,
     "metadata": {},
     "output_type": "execute_result"
    },
    {
     "data": {
      "image/png": "[encoded data removed]",
      "text/plain": [
       "<Figure size 576x576 with 1 Axes>"
      ]
     },
     "metadata": {
      "needs_background": "light"
     },
     "output_type": "display_data"
    }
   ],
   "source": [
    "miasta.plot(x = 'Rok', figsize = (8,8), style = '.-')\n",
    "plt.xlim(1895, 2015)\n",
    "plt.xticks(np.arange(1900, 2020, 10))\n",
    "plt.title('Ludność w miastach Polski')\n",
    "plt.xlabel('Lata')\n",
    "plt.ylabel('Liczba ludności [w tys.]')"
   ]
  },
  {
   "cell_type": "markdown",
   "metadata": {},
   "source": [
    "### e)"
   ]
  },
  {
   "cell_type": "code",
   "execution_count": 12,
   "metadata": {},
   "outputs": [],
   "source": [
    "from sklearn.preprocessing import StandardScaler\n",
    "# poprzez StandardScaler\n",
    "ss = StandardScaler()\n",
    "miastas = ss.fit_transform(miasta)"
   ]
  },
  {
   "cell_type": "code",
   "execution_count": 13,
   "metadata": {},
   "outputs": [
    {
     "data": {
      "text/plain": [
       "array([[-1.92149899, -1.11719159, -1.80098925, -0.78708066],\n",
       "       [-1.13282403, -0.80309299, -1.10498255, -0.37300779],\n",
       "       [-0.69116606, -0.4889944 , -0.76330653, -0.06245314],\n",
       "       [-0.47033707, -1.53337222, -0.80759786, -2.08576376],\n",
       "       [-0.34414907, -0.92873243, -0.47224918, -1.08822457],\n",
       "       [-0.02867909, -0.20630567,  0.08455619, -0.23184659],\n",
       "       [ 0.28679089,  0.41403905,  0.48317821,  0.41749496],\n",
       "       [ 0.60226088,  1.12861335,  0.99569224,  0.88803231],\n",
       "       [ 0.91773086,  1.19928554,  1.23613092,  1.12330099],\n",
       "       [ 1.23320085,  1.17572814,  1.13489358,  1.15153323],\n",
       "       [ 1.54867083,  1.16002321,  1.01467424,  1.04801501]])"
      ]
     },
     "execution_count": 13,
     "metadata": {},
     "output_type": "execute_result"
    }
   ],
   "source": [
    "miastas"
   ]
  },
  {
   "cell_type": "code",
   "execution_count": 14,
   "metadata": {},
   "outputs": [
    {
     "data": {
      "text/plain": [
       "-5.702509171938304e-16"
      ]
     },
     "execution_count": 14,
     "metadata": {},
     "output_type": "execute_result"
    }
   ],
   "source": [
    "# srednia\n",
    "np.mean(miastas)"
   ]
  },
  {
   "cell_type": "code",
   "execution_count": 15,
   "metadata": {},
   "outputs": [
    {
     "data": {
      "text/plain": [
       "-0.0"
      ]
     },
     "execution_count": 15,
     "metadata": {},
     "output_type": "execute_result"
    }
   ],
   "source": [
    "np.round(np.mean(miastas), 5)"
   ]
  },
  {
   "cell_type": "code",
   "execution_count": 16,
   "metadata": {},
   "outputs": [
    {
     "data": {
      "text/plain": [
       "1.0"
      ]
     },
     "execution_count": 16,
     "metadata": {},
     "output_type": "execute_result"
    }
   ],
   "source": [
    "# odchylenie\n",
    "np.std(miastas)"
   ]
  },
  {
   "cell_type": "code",
   "execution_count": 17,
   "metadata": {},
   "outputs": [],
   "source": [
    "# reczny sposob\n",
    "miastas2 = miasta.copy()\n",
    "# kopiuje dataframe, aby zapisać do niej otrzymany wynik\n",
    "for i in miasta.columns:\n",
    "    mean = np.mean(miasta[i])\n",
    "    std = np.std(miasta[i])\n",
    "    miastas2[i] = (miasta[i] - mean) / std"
   ]
  },
  {
   "cell_type": "code",
   "execution_count": 31,
   "metadata": {},
   "outputs": [
    {
     "data": {
      "text/html": [
       "<div>\n",
       "<style scoped>\n",
       "    .dataframe tbody tr th:only-of-type {\n",
       "        vertical-align: middle;\n",
       "    }\n",
       "\n",
       "    .dataframe tbody tr th {\n",
       "        vertical-align: top;\n",
       "    }\n",
       "\n",
       "    .dataframe thead th {\n",
       "        text-align: right;\n",
       "    }\n",
       "</style>\n",
       "<table border=\"1\" class=\"dataframe\">\n",
       "  <thead>\n",
       "    <tr style=\"text-align: right;\">\n",
       "      <th></th>\n",
       "      <th>Rok</th>\n",
       "      <th>Gdansk</th>\n",
       "      <th>Poznan</th>\n",
       "      <th>Szczecin</th>\n",
       "    </tr>\n",
       "  </thead>\n",
       "  <tbody>\n",
       "    <tr>\n",
       "      <th>0</th>\n",
       "      <td>-1.832077</td>\n",
       "      <td>-1.065200</td>\n",
       "      <td>-1.717176</td>\n",
       "      <td>-0.750452</td>\n",
       "    </tr>\n",
       "    <tr>\n",
       "      <th>1</th>\n",
       "      <td>-1.080105</td>\n",
       "      <td>-0.765719</td>\n",
       "      <td>-1.053560</td>\n",
       "      <td>-0.355649</td>\n",
       "    </tr>\n",
       "    <tr>\n",
       "      <th>2</th>\n",
       "      <td>-0.659001</td>\n",
       "      <td>-0.466238</td>\n",
       "      <td>-0.727784</td>\n",
       "      <td>-0.059547</td>\n",
       "    </tr>\n",
       "    <tr>\n",
       "      <th>3</th>\n",
       "      <td>-0.448449</td>\n",
       "      <td>-1.462013</td>\n",
       "      <td>-0.770014</td>\n",
       "      <td>-1.988698</td>\n",
       "    </tr>\n",
       "    <tr>\n",
       "      <th>4</th>\n",
       "      <td>-0.328133</td>\n",
       "      <td>-0.885512</td>\n",
       "      <td>-0.450272</td>\n",
       "      <td>-1.037581</td>\n",
       "    </tr>\n",
       "    <tr>\n",
       "      <th>5</th>\n",
       "      <td>-0.027344</td>\n",
       "      <td>-0.196705</td>\n",
       "      <td>0.080621</td>\n",
       "      <td>-0.221057</td>\n",
       "    </tr>\n",
       "    <tr>\n",
       "      <th>6</th>\n",
       "      <td>0.273444</td>\n",
       "      <td>0.394771</td>\n",
       "      <td>0.460692</td>\n",
       "      <td>0.398066</td>\n",
       "    </tr>\n",
       "    <tr>\n",
       "      <th>7</th>\n",
       "      <td>0.574233</td>\n",
       "      <td>1.076091</td>\n",
       "      <td>0.949355</td>\n",
       "      <td>0.846706</td>\n",
       "    </tr>\n",
       "    <tr>\n",
       "      <th>8</th>\n",
       "      <td>0.875022</td>\n",
       "      <td>1.143474</td>\n",
       "      <td>1.178605</td>\n",
       "      <td>1.071025</td>\n",
       "    </tr>\n",
       "    <tr>\n",
       "      <th>9</th>\n",
       "      <td>1.175811</td>\n",
       "      <td>1.121013</td>\n",
       "      <td>1.082079</td>\n",
       "      <td>1.097944</td>\n",
       "    </tr>\n",
       "    <tr>\n",
       "      <th>10</th>\n",
       "      <td>1.476600</td>\n",
       "      <td>1.106039</td>\n",
       "      <td>0.967454</td>\n",
       "      <td>0.999243</td>\n",
       "    </tr>\n",
       "  </tbody>\n",
       "</table>\n",
       "</div>"
      ],
      "text/plain": [
       "         Rok    Gdansk    Poznan  Szczecin\n",
       "0  -1.832077 -1.065200 -1.717176 -0.750452\n",
       "1  -1.080105 -0.765719 -1.053560 -0.355649\n",
       "2  -0.659001 -0.466238 -0.727784 -0.059547\n",
       "3  -0.448449 -1.462013 -0.770014 -1.988698\n",
       "4  -0.328133 -0.885512 -0.450272 -1.037581\n",
       "5  -0.027344 -0.196705  0.080621 -0.221057\n",
       "6   0.273444  0.394771  0.460692  0.398066\n",
       "7   0.574233  1.076091  0.949355  0.846706\n",
       "8   0.875022  1.143474  1.178605  1.071025\n",
       "9   1.175811  1.121013  1.082079  1.097944\n",
       "10  1.476600  1.106039  0.967454  0.999243"
      ]
     },
     "execution_count": 31,
     "metadata": {},
     "output_type": "execute_result"
    }
   ],
   "source": [
    "miastas22 = miasta.copy()\n",
    "miastas22 = (miastas22 - miastas22.mean()) / miastas22.std()\n",
    "miastas22"
   ]
  },
  {
   "cell_type": "code",
   "execution_count": 18,
   "metadata": {},
   "outputs": [
    {
     "data": {
      "text/html": [
       "<div>\n",
       "<style scoped>\n",
       "    .dataframe tbody tr th:only-of-type {\n",
       "        vertical-align: middle;\n",
       "    }\n",
       "\n",
       "    .dataframe tbody tr th {\n",
       "        vertical-align: top;\n",
       "    }\n",
       "\n",
       "    .dataframe thead th {\n",
       "        text-align: right;\n",
       "    }\n",
       "</style>\n",
       "<table border=\"1\" class=\"dataframe\">\n",
       "  <thead>\n",
       "    <tr style=\"text-align: right;\">\n",
       "      <th></th>\n",
       "      <th>Rok</th>\n",
       "      <th>Gdansk</th>\n",
       "      <th>Poznan</th>\n",
       "      <th>Szczecin</th>\n",
       "    </tr>\n",
       "  </thead>\n",
       "  <tbody>\n",
       "    <tr>\n",
       "      <th>0</th>\n",
       "      <td>-1.921499</td>\n",
       "      <td>-1.117192</td>\n",
       "      <td>-1.800989</td>\n",
       "      <td>-0.787081</td>\n",
       "    </tr>\n",
       "    <tr>\n",
       "      <th>1</th>\n",
       "      <td>-1.132824</td>\n",
       "      <td>-0.803093</td>\n",
       "      <td>-1.104983</td>\n",
       "      <td>-0.373008</td>\n",
       "    </tr>\n",
       "    <tr>\n",
       "      <th>2</th>\n",
       "      <td>-0.691166</td>\n",
       "      <td>-0.488994</td>\n",
       "      <td>-0.763307</td>\n",
       "      <td>-0.062453</td>\n",
       "    </tr>\n",
       "    <tr>\n",
       "      <th>3</th>\n",
       "      <td>-0.470337</td>\n",
       "      <td>-1.533372</td>\n",
       "      <td>-0.807598</td>\n",
       "      <td>-2.085764</td>\n",
       "    </tr>\n",
       "    <tr>\n",
       "      <th>4</th>\n",
       "      <td>-0.344149</td>\n",
       "      <td>-0.928732</td>\n",
       "      <td>-0.472249</td>\n",
       "      <td>-1.088225</td>\n",
       "    </tr>\n",
       "    <tr>\n",
       "      <th>5</th>\n",
       "      <td>-0.028679</td>\n",
       "      <td>-0.206306</td>\n",
       "      <td>0.084556</td>\n",
       "      <td>-0.231847</td>\n",
       "    </tr>\n",
       "    <tr>\n",
       "      <th>6</th>\n",
       "      <td>0.286791</td>\n",
       "      <td>0.414039</td>\n",
       "      <td>0.483178</td>\n",
       "      <td>0.417495</td>\n",
       "    </tr>\n",
       "    <tr>\n",
       "      <th>7</th>\n",
       "      <td>0.602261</td>\n",
       "      <td>1.128613</td>\n",
       "      <td>0.995692</td>\n",
       "      <td>0.888032</td>\n",
       "    </tr>\n",
       "    <tr>\n",
       "      <th>8</th>\n",
       "      <td>0.917731</td>\n",
       "      <td>1.199286</td>\n",
       "      <td>1.236131</td>\n",
       "      <td>1.123301</td>\n",
       "    </tr>\n",
       "    <tr>\n",
       "      <th>9</th>\n",
       "      <td>1.233201</td>\n",
       "      <td>1.175728</td>\n",
       "      <td>1.134894</td>\n",
       "      <td>1.151533</td>\n",
       "    </tr>\n",
       "    <tr>\n",
       "      <th>10</th>\n",
       "      <td>1.548671</td>\n",
       "      <td>1.160023</td>\n",
       "      <td>1.014674</td>\n",
       "      <td>1.048015</td>\n",
       "    </tr>\n",
       "  </tbody>\n",
       "</table>\n",
       "</div>"
      ],
      "text/plain": [
       "         Rok    Gdansk    Poznan  Szczecin\n",
       "0  -1.921499 -1.117192 -1.800989 -0.787081\n",
       "1  -1.132824 -0.803093 -1.104983 -0.373008\n",
       "2  -0.691166 -0.488994 -0.763307 -0.062453\n",
       "3  -0.470337 -1.533372 -0.807598 -2.085764\n",
       "4  -0.344149 -0.928732 -0.472249 -1.088225\n",
       "5  -0.028679 -0.206306  0.084556 -0.231847\n",
       "6   0.286791  0.414039  0.483178  0.417495\n",
       "7   0.602261  1.128613  0.995692  0.888032\n",
       "8   0.917731  1.199286  1.236131  1.123301\n",
       "9   1.233201  1.175728  1.134894  1.151533\n",
       "10  1.548671  1.160023  1.014674  1.048015"
      ]
     },
     "execution_count": 18,
     "metadata": {},
     "output_type": "execute_result"
    }
   ],
   "source": [
    "miastas2"
   ]
  },
  {
   "cell_type": "code",
   "execution_count": 19,
   "metadata": {},
   "outputs": [
    {
     "data": {
      "text/plain": [
       "Rok        -2.644349e-15\n",
       "Gdansk      1.614870e-16\n",
       "Poznan      1.413011e-16\n",
       "Szczecin    6.055762e-17\n",
       "dtype: float64"
      ]
     },
     "execution_count": 19,
     "metadata": {},
     "output_type": "execute_result"
    }
   ],
   "source": [
    "miastas2.mean()"
   ]
  },
  {
   "cell_type": "code",
   "execution_count": 20,
   "metadata": {},
   "outputs": [
    {
     "data": {
      "text/plain": [
       "Rok         1.048809\n",
       "Gdansk      1.048809\n",
       "Poznan      1.048809\n",
       "Szczecin    1.048809\n",
       "dtype: float64"
      ]
     },
     "execution_count": 20,
     "metadata": {},
     "output_type": "execute_result"
    }
   ],
   "source": [
    "miastas2.std()"
   ]
  },
  {
   "cell_type": "markdown",
   "metadata": {},
   "source": [
    "### f)"
   ]
  },
  {
   "cell_type": "code",
   "execution_count": 21,
   "metadata": {},
   "outputs": [],
   "source": [
    "# MinMaxScaler\n",
    "from sklearn.preprocessing import MinMaxScaler\n",
    "minmax = MinMaxScaler()\n",
    "miastam2 = minmax.fit_transform(miasta)"
   ]
  },
  {
   "cell_type": "code",
   "execution_count": 22,
   "metadata": {},
   "outputs": [
    {
     "data": {
      "text/plain": [
       "array([[0.        , 0.15229885, 0.        , 0.40116279],\n",
       "       [0.22727273, 0.26724138, 0.22916667, 0.52906977],\n",
       "       [0.35454545, 0.38218391, 0.34166667, 0.625     ],\n",
       "       [0.41818182, 0.        , 0.32708333, 0.        ],\n",
       "       [0.45454545, 0.22126437, 0.4375    , 0.30813953],\n",
       "       [0.54545455, 0.48563218, 0.62083333, 0.57267442],\n",
       "       [0.63636364, 0.71264368, 0.75208333, 0.77325581],\n",
       "       [0.72727273, 0.97413793, 0.92083333, 0.91860465],\n",
       "       [0.81818182, 1.        , 1.        , 0.99127907],\n",
       "       [0.90909091, 0.99137931, 0.96666667, 1.        ],\n",
       "       [1.        , 0.98563218, 0.92708333, 0.96802326]])"
      ]
     },
     "execution_count": 22,
     "metadata": {},
     "output_type": "execute_result"
    }
   ],
   "source": [
    "miastam2"
   ]
  },
  {
   "cell_type": "code",
   "execution_count": 23,
   "metadata": {},
   "outputs": [
    {
     "data": {
      "text/plain": [
       "0.0"
      ]
     },
     "execution_count": 23,
     "metadata": {},
     "output_type": "execute_result"
    }
   ],
   "source": [
    "# minimum\n",
    "miastam2.min()"
   ]
  },
  {
   "cell_type": "code",
   "execution_count": 24,
   "metadata": {},
   "outputs": [
    {
     "data": {
      "text/plain": [
       "1.0"
      ]
     },
     "execution_count": 24,
     "metadata": {},
     "output_type": "execute_result"
    }
   ],
   "source": [
    "# maximum\n",
    "miastam2.max()"
   ]
  },
  {
   "cell_type": "code",
   "execution_count": 25,
   "metadata": {},
   "outputs": [],
   "source": [
    "# ręczny sposób\n",
    "miastam = miasta.copy()\n",
    "for i in miasta.columns:\n",
    "    miastam[i] = (miasta[i] - miasta.min()[i]) / (miasta.max()[i] - miasta.min()[i])"
   ]
  },
  {
   "cell_type": "code",
   "execution_count": 26,
   "metadata": {},
   "outputs": [
    {
     "data": {
      "text/html": [
       "<div>\n",
       "<style scoped>\n",
       "    .dataframe tbody tr th:only-of-type {\n",
       "        vertical-align: middle;\n",
       "    }\n",
       "\n",
       "    .dataframe tbody tr th {\n",
       "        vertical-align: top;\n",
       "    }\n",
       "\n",
       "    .dataframe thead th {\n",
       "        text-align: right;\n",
       "    }\n",
       "</style>\n",
       "<table border=\"1\" class=\"dataframe\">\n",
       "  <thead>\n",
       "    <tr style=\"text-align: right;\">\n",
       "      <th></th>\n",
       "      <th>Rok</th>\n",
       "      <th>Gdansk</th>\n",
       "      <th>Poznan</th>\n",
       "      <th>Szczecin</th>\n",
       "    </tr>\n",
       "  </thead>\n",
       "  <tbody>\n",
       "    <tr>\n",
       "      <th>0</th>\n",
       "      <td>0.000000</td>\n",
       "      <td>0.152299</td>\n",
       "      <td>0.000000</td>\n",
       "      <td>0.401163</td>\n",
       "    </tr>\n",
       "    <tr>\n",
       "      <th>1</th>\n",
       "      <td>0.227273</td>\n",
       "      <td>0.267241</td>\n",
       "      <td>0.229167</td>\n",
       "      <td>0.529070</td>\n",
       "    </tr>\n",
       "    <tr>\n",
       "      <th>2</th>\n",
       "      <td>0.354545</td>\n",
       "      <td>0.382184</td>\n",
       "      <td>0.341667</td>\n",
       "      <td>0.625000</td>\n",
       "    </tr>\n",
       "    <tr>\n",
       "      <th>3</th>\n",
       "      <td>0.418182</td>\n",
       "      <td>0.000000</td>\n",
       "      <td>0.327083</td>\n",
       "      <td>0.000000</td>\n",
       "    </tr>\n",
       "    <tr>\n",
       "      <th>4</th>\n",
       "      <td>0.454545</td>\n",
       "      <td>0.221264</td>\n",
       "      <td>0.437500</td>\n",
       "      <td>0.308140</td>\n",
       "    </tr>\n",
       "    <tr>\n",
       "      <th>5</th>\n",
       "      <td>0.545455</td>\n",
       "      <td>0.485632</td>\n",
       "      <td>0.620833</td>\n",
       "      <td>0.572674</td>\n",
       "    </tr>\n",
       "    <tr>\n",
       "      <th>6</th>\n",
       "      <td>0.636364</td>\n",
       "      <td>0.712644</td>\n",
       "      <td>0.752083</td>\n",
       "      <td>0.773256</td>\n",
       "    </tr>\n",
       "    <tr>\n",
       "      <th>7</th>\n",
       "      <td>0.727273</td>\n",
       "      <td>0.974138</td>\n",
       "      <td>0.920833</td>\n",
       "      <td>0.918605</td>\n",
       "    </tr>\n",
       "    <tr>\n",
       "      <th>8</th>\n",
       "      <td>0.818182</td>\n",
       "      <td>1.000000</td>\n",
       "      <td>1.000000</td>\n",
       "      <td>0.991279</td>\n",
       "    </tr>\n",
       "    <tr>\n",
       "      <th>9</th>\n",
       "      <td>0.909091</td>\n",
       "      <td>0.991379</td>\n",
       "      <td>0.966667</td>\n",
       "      <td>1.000000</td>\n",
       "    </tr>\n",
       "    <tr>\n",
       "      <th>10</th>\n",
       "      <td>1.000000</td>\n",
       "      <td>0.985632</td>\n",
       "      <td>0.927083</td>\n",
       "      <td>0.968023</td>\n",
       "    </tr>\n",
       "  </tbody>\n",
       "</table>\n",
       "</div>"
      ],
      "text/plain": [
       "         Rok    Gdansk    Poznan  Szczecin\n",
       "0   0.000000  0.152299  0.000000  0.401163\n",
       "1   0.227273  0.267241  0.229167  0.529070\n",
       "2   0.354545  0.382184  0.341667  0.625000\n",
       "3   0.418182  0.000000  0.327083  0.000000\n",
       "4   0.454545  0.221264  0.437500  0.308140\n",
       "5   0.545455  0.485632  0.620833  0.572674\n",
       "6   0.636364  0.712644  0.752083  0.773256\n",
       "7   0.727273  0.974138  0.920833  0.918605\n",
       "8   0.818182  1.000000  1.000000  0.991279\n",
       "9   0.909091  0.991379  0.966667  1.000000\n",
       "10  1.000000  0.985632  0.927083  0.968023"
      ]
     },
     "execution_count": 26,
     "metadata": {},
     "output_type": "execute_result"
    }
   ],
   "source": [
    "miastam"
   ]
  },
  {
   "cell_type": "code",
   "execution_count": 27,
   "metadata": {},
   "outputs": [
    {
     "data": {
      "text/plain": [
       "Rok         0.0\n",
       "Gdansk      0.0\n",
       "Poznan      0.0\n",
       "Szczecin    0.0\n",
       "dtype: float64"
      ]
     },
     "execution_count": 27,
     "metadata": {},
     "output_type": "execute_result"
    }
   ],
   "source": [
    "# min recznie obliczonym sposobem\n",
    "miastam.min()"
   ]
  },
  {
   "cell_type": "code",
   "execution_count": 28,
   "metadata": {},
   "outputs": [
    {
     "data": {
      "text/plain": [
       "Rok         1.0\n",
       "Gdansk      1.0\n",
       "Poznan      1.0\n",
       "Szczecin    1.0\n",
       "dtype: float64"
      ]
     },
     "execution_count": 28,
     "metadata": {},
     "output_type": "execute_result"
    }
   ],
   "source": [
    "# max recznie obliczonym sposobem\n",
    "miastam.max()"
   ]
  }
 ],
 "metadata": {
  "kernelspec": {
   "display_name": "Python 3",
   "language": "python",
   "name": "python3"
  },
  "language_info": {
   "codemirror_mode": {
    "name": "ipython",
    "version": 3
   },
   "file_extension": ".py",
   "mimetype": "text/x-python",
   "name": "python",
   "nbconvert_exporter": "python",
   "pygments_lexer": "ipython3",
   "version": "3.8.3"
  }
 },
 "nbformat": 4,
 "nbformat_minor": 4
}
